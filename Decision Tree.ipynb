{
 "cells": [
  {
   "cell_type": "code",
   "execution_count": 24,
   "metadata": {},
   "outputs": [],
   "source": [
    "import pandas as pd\n",
    "import numpy as np\n",
    "import math\n",
    "from sklearn.model_selection import KFold\n",
    "#Loading the dataset\n",
    "dataset = open(\"breast-cancer.data\")\n",
    "df = []\n",
    "list_for_pop = []\n",
    "for data in dataset:\n",
    "    df.append([data])\n",
    "    \n",
    "#Removing the instances with missing data\n",
    "for i in range(len(df)):\n",
    "    df[i]= df[i][0].split()\n",
    "    df[i]= df[i][0].split(\",\")\n",
    "    for j in range(len(df[i])):\n",
    "        if(df[i][j].isalnum()):\n",
    "            df[i][j] = np.int(df[i][j])\n",
    "        else:\n",
    "            list_for_pop.append(df[i][0]) \n",
    "for pp in list_for_pop:\n",
    "    for i in range(len(df)):\n",
    "        if(df[i][0] == pp):\n",
    "            df.pop(i)\n",
    "            break\n",
    "df = pd.DataFrame(df)\n",
    "#naming the columns\n",
    "df.columns = ['Sample code number','Clump Thickness','Uniformity of Cell Size','Uniformity of Cell Shape','Marginal Adhesion','Single Epithelial Cell Size','Bare Nuclei','Bland Chromatin','Normal Nucleoli','Mitoses','target']\n",
    "df = df.drop_duplicates() #removing duplicates\n",
    "df = df.sample(frac=1).reset_index(drop=True)"
   ]
  },
  {
   "cell_type": "code",
   "execution_count": 27,
   "metadata": {},
   "outputs": [],
   "source": [
    "def entropy_function(att):\n",
    "    vals = list(att)\n",
    "    total = len(vals)\n",
    "    distinct_val = {x:0 for x in set(vals)}\n",
    "    #calculate sum of each distinct value\n",
    "    for val in vals:\n",
    "        distinct_val[val]+=1\n",
    "    for key in distinct_val:\n",
    "        distinct_val[key] = distinct_val[key]/total\n",
    "    if 1 in distinct_val.values():\n",
    "        return 0\n",
    "    entropy = 0\n",
    "    #entropy formula\n",
    "    for val in distinct_val:\n",
    "        entropy-=(distinct_val[val])*math.log((distinct_val[val]),len(distinct_val.keys()))\n",
    "    return entropy\n",
    "\n",
    "def info_gain_att(train, att, target):\n",
    "    #total entropy for training data\n",
    "    total_entropy = entropy_function(train[target])\n",
    "    vals,counts= np.unique(train[att],return_counts=True)\n",
    "    distinct_vals = dict(zip(vals,counts))\n",
    "    #calculate entropy for attribute\n",
    "    entropy = sum([(distinct_vals[i]/sum(distinct_vals.values()))*entropy_function(train.where(train[att]==i).dropna()[target]) for i in distinct_vals])\n",
    "    #return gain\n",
    "    return total_entropy - entropy\n",
    "\n",
    "def Id3 (train_before,train,uniq, target=10):\n",
    "    #End conditions: if only 4, if only 2 or training data doesn't exist for a particular attribute value \n",
    "    if 4.0 not in list(train[target]):\n",
    "        return 2\n",
    "    if 2.0 not in list(train[target]):\n",
    "        return 4\n",
    "    if len(train)==0:\n",
    "        return int(train_before[target].mode())\n",
    "    #calculate information gain for all the attributes in the training data\n",
    "    info_gain_attr = {att:info_gain_att(train,att,target) for att in train.drop(columns=[uniq,target])}\n",
    "    #find attribute with max gain and make it root attribute\n",
    "    best_attr = max(info_gain_attr, key=lambda k: info_gain_attr[k])\n",
    "    tree = {best_attr:{}}\n",
    "    for val in set(df[best_attr]):\n",
    "        split_train = train.where(train[best_attr] == val).dropna()\n",
    "        sub_tree = Id3(train,split_train,uniq,target)\n",
    "        tree[best_attr][val] = sub_tree\n",
    "    return tree\n",
    "\n",
    "def Id3_Predict(data, DT_model):\n",
    "    #ID3 prediction\n",
    "    if type(DT_model) == int:\n",
    "        return DT_model\n",
    "    key = ''.join(list(DT_model.keys()))\n",
    "    return Id3_Predict(data, DT_model[key][data[key]])\n",
    "\n",
    "def test_accuracy(test,DT_model):\n",
    "    #test model\n",
    "    test_dict = test.reset_index().to_dict(orient=\"records\")\n",
    "    predicted = pd.DataFrame(columns=[\"predicted\"])\n",
    "    for record in range(len(test_dict)):\n",
    "        predicted.loc[record,\"predicted\"] = Id3_Predict(test_dict[record],DT_model)\n",
    "    print(\"Accuracy -->\",(np.sum(predicted[\"predicted\"] == test.reset_index()[\"target\"])/len(test))*100,'%')\n",
    "    return (np.sum(predicted[\"predicted\"] == test.reset_index()[\"target\"])/len(test))*100"
   ]
  },
  {
   "cell_type": "code",
   "execution_count": 29,
   "metadata": {},
   "outputs": [
    {
     "name": "stdout",
     "output_type": "stream",
     "text": [
      "Accuracy --> 89.38053097345133 %\n",
      "Accuracy --> 92.92035398230088 %\n",
      "Accuracy --> 92.03539823008849 %\n",
      "Accuracy --> 94.64285714285714 %\n",
      "Accuracy --> 91.07142857142857 %\n",
      "Accuracy --> 92.85714285714286 %\n"
     ]
    }
   ],
   "source": [
    "#k-fold cross valic\n",
    "kf = KFold(n_splits=6, shuffle=True)\n",
    "kf.get_n_splits(df)\n",
    "accuracy_list = []\n",
    "for train_index,test_index in kf.split(df):\n",
    "    df = df.sample(frac=1)\n",
    "    train, test = df.iloc[train_index], df.iloc[test_index]\n",
    "    DT_model = Id3(train,pd.DataFrame(train),uniq = 'Sample code number',target='target')\n",
    "    acc = test_accuracy(test,DT_model)\n",
    "    accuracy_list.append(acc)"
   ]
  },
  {
   "cell_type": "code",
   "execution_count": 36,
   "metadata": {},
   "outputs": [
    {
     "data": {
      "image/png": "[encoded data removed]",
      "text/plain": [
       "<Figure size 432x288 with 1 Axes>"
      ]
     },
     "metadata": {
      "needs_background": "light"
     },
     "output_type": "display_data"
    },
    {
     "name": "stdout",
     "output_type": "stream",
     "text": [
      "Mean accuracy 92.15128529287823\n"
     ]
    }
   ],
   "source": [
    "from matplotlib import pyplot as plt\n",
    "plt.boxplot(accuracy_list)\n",
    "plt.ylabel(\"Accuracy\")\n",
    "plt.show()\n",
    "print(\"Mean accuracy\",np.mean(accuracy_list))"
   ]
  },
  {
   "cell_type": "code",
   "execution_count": null,
   "metadata": {},
   "outputs": [],
   "source": []
  }
 ],
 "metadata": {
  "kernelspec": {
   "display_name": "Python 3",
   "language": "python",
   "name": "python3"
  },
  "language_info": {
   "codemirror_mode": {
    "name": "ipython",
    "version": 3
   },
   "file_extension": ".py",
   "mimetype": "text/x-python",
   "name": "python",
   "nbconvert_exporter": "python",
   "pygments_lexer": "ipython3",
   "version": "3.7.3"
  }
 },
 "nbformat": 4,
 "nbformat_minor": 4
}
