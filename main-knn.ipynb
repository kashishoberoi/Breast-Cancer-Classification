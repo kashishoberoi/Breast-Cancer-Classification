{
 "cells": [
  {
   "cell_type": "code",
   "execution_count": 5,
   "metadata": {},
   "outputs": [],
   "source": [
    "import pandas as pd\n",
    "import numpy as np\n",
    "import math"
   ]
  },
  {
   "cell_type": "code",
   "execution_count": 6,
   "metadata": {},
   "outputs": [],
   "source": [
    "#Loading the dataset\n",
    "dataset = open(\"breast-cancer.data\")\n",
    "df = []\n",
    "list_for_pop = []\n",
    "for data in dataset:\n",
    "    df.append([data])\n",
    "for i in range(len(df)):\n",
    "    df[i]= df[i][0].split()\n",
    "    df[i]= df[i][0].split(\",\")\n",
    "    for j in range(len(df[i])):\n",
    "        if(df[i][j].isalnum()):\n",
    "            df[i][j] = np.float(df[i][j])\n",
    "        else:\n",
    "            list_for_pop.append(df[i][0]) \n",
    "for pp in list_for_pop:\n",
    "    for i in range(len(df)):\n",
    "        if(df[i][0] == pp):\n",
    "            df.pop(i)\n",
    "            break\n",
    "df = pd.DataFrame(df)\n",
    "df = df.drop_duplicates()"
   ]
  },
  {
   "cell_type": "code",
   "execution_count": 7,
   "metadata": {},
   "outputs": [],
   "source": [
    "#Creating training, cross validation and test set from dataset\n",
    "train = df.sample(math.ceil(60/100*len(df)))\n",
    "test = df[~df.apply(tuple,1).isin(train.apply(tuple,1))].sample(math.ceil(40/100*len(df)))"
   ]
  },
  {
   "cell_type": "code",
   "execution_count": 154,
   "metadata": {},
   "outputs": [],
   "source": [
    "#training data labelled\n",
    "x_train = train.loc[:, range(0,10)]\n",
    "y_train = train.loc[:, (0,10)]"
   ]
  },
  {
   "cell_type": "code",
   "execution_count": 155,
   "metadata": {},
   "outputs": [],
   "source": [
    "#test data labelled\n",
    "x_test = test.loc[:, range(0,10)]\n",
    "y_test = test.loc[:, (0,10)]"
   ]
  },
  {
   "cell_type": "code",
   "execution_count": 156,
   "metadata": {},
   "outputs": [],
   "source": [
    "for i in range(1,10):\n",
    "    x_train[i] = (x_train[i] - min(x_train[i]))/(max(x_train[i])-min(x_train[i]))"
   ]
  },
  {
   "cell_type": "code",
   "execution_count": 12,
   "metadata": {},
   "outputs": [],
   "source": [
    "def knn(train,test,k):\n",
    "    x_train = train.loc[:, range(0,10)]\n",
    "    y_train = train.loc[:, (0,10)]\n",
    "    x_test = test.loc[:, range(0,10)]\n",
    "    y_test = test.loc[:, (0,10)]\n",
    "    correct = 0\n",
    "    total = 0\n",
    "    for i in range(1,10):\n",
    "        x_train[i] = (x_train[i] - min(x_train[i]))/(max(x_train[i])-min(x_train[i]))\n",
    "    for test_data_point in x_test.index:\n",
    "        new_data = x_test.loc[test_data_point]\n",
    "        for i in range(1,10):\n",
    "            new_data[i] = np.float(new_data[i] - 1)/9.0\n",
    "        list_distance = []\n",
    "        for data_point in x_train.index:\n",
    "            distance = 0\n",
    "            for d in x_train.loc[data_point][1:10] - new_data[1:10]:\n",
    "                distance = distance + d*d\n",
    "            list_distance.append([distance,x_train.loc[data_point][0]])\n",
    "        list_distance.sort()\n",
    "        list_distance = list_distance[:k]\n",
    "        y_value = []\n",
    "        for i in range(len(list_distance)):\n",
    "            for data_point in y_train.index:\n",
    "                if(y_train.loc[data_point][0] == list_distance[i][1]):\n",
    "                    y_value.append([y_train.loc[data_point][10],list_distance[i][0]])\n",
    "                    break\n",
    "        if([value[0] for value in y_value].count(4.0) > [value[0] for value in y_value].count(2.0)):\n",
    "            pred = 4.0\n",
    "        else:\n",
    "            pred = 2.0\n",
    "        if(pred == y_test.loc[test_data_point][10]):\n",
    "            correct = correct + 1\n",
    "        total = total + 1\n",
    "    return (correct/total)"
   ]
  },
  {
   "cell_type": "code",
   "execution_count": 16,
   "metadata": {},
   "outputs": [
    {
     "name": "stdout",
     "output_type": "stream",
     "text": [
      "Accuracy---->  97.34513274336283\n",
      "Accuracy---->  98.23008849557522\n",
      "Accuracy---->  98.23008849557522\n",
      "Accuracy---->  94.64285714285714\n",
      "Accuracy---->  98.21428571428571\n",
      "Accuracy---->  96.42857142857143\n"
     ]
    }
   ],
   "source": [
    "#k-fold cross validation\n",
    "from sklearn.model_selection import KFold\n",
    "kf = KFold(n_splits=6, shuffle=True)\n",
    "kf.get_n_splits(df)\n",
    "accuracy_list = []\n",
    "for train_index,test_index in kf.split(df):\n",
    "    df = df.sample(frac=1)\n",
    "    train, test = df.iloc[train_index], df.iloc[test_index]\n",
    "    acc = knn(train,test,10)*100\n",
    "    print(\"Accuracy----> \",acc)\n",
    "    accuracy_list.append(acc)"
   ]
  },
  {
   "cell_type": "code",
   "execution_count": 18,
   "metadata": {},
   "outputs": [
    {
     "data": {
      "image/png": "[encoded data removed]",
      "text/plain": [
       "<Figure size 432x288 with 1 Axes>"
      ]
     },
     "metadata": {
      "needs_background": "light"
     },
     "output_type": "display_data"
    },
    {
     "name": "stdout",
     "output_type": "stream",
     "text": [
      "Mean accuracy 97.18183733670458\n"
     ]
    }
   ],
   "source": [
    "from matplotlib import pyplot as plt\n",
    "plt.boxplot(accuracy_list)\n",
    "plt.ylabel(\"Accuracy\")\n",
    "plt.show()\n",
    "print(\"Mean accuracy\",np.mean(accuracy_list))"
   ]
  },
  {
   "cell_type": "code",
   "execution_count": null,
   "metadata": {},
   "outputs": [],
   "source": []
  }
 ],
 "metadata": {
  "kernelspec": {
   "display_name": "Python 3",
   "language": "python",
   "name": "python3"
  },
  "language_info": {
   "codemirror_mode": {
    "name": "ipython",
    "version": 3
   },
   "file_extension": ".py",
   "mimetype": "text/x-python",
   "name": "python",
   "nbconvert_exporter": "python",
   "pygments_lexer": "ipython3",
   "version": "3.7.3"
  }
 },
 "nbformat": 4,
 "nbformat_minor": 2
}
